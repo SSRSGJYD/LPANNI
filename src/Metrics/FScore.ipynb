{
 "cells": [
  {
   "cell_type": "code",
   "execution_count": 1,
   "metadata": {},
   "outputs": [],
   "source": [
    "import time\n"
   ]
  },
  {
   "cell_type": "code",
   "execution_count": 2,
   "metadata": {},
   "outputs": [],
   "source": [
    "def fetchNetWorkOverlappingNodes(filePath):\n",
    "    nodeSet = set({})\n",
    "    nodeMap = {}\n",
    "    with open(filePath, 'r') as fileHandle:\n",
    "        line = fileHandle.readline()\n",
    "        while line:\n",
    "            nodeIdList = line.split()\n",
    "            for nodeId in nodeIdList:\n",
    "                if nodeMap.get(nodeId):\n",
    "                    nodeMap[nodeId] += 1\n",
    "                else:\n",
    "                    nodeMap[nodeId] = 1\n",
    "            line = fileHandle.readline()\n",
    "        for nodeId, count in nodeMap.items():\n",
    "            if count > 1:\n",
    "                nodeSet.add(nodeId)\n",
    "    return nodeSet\n"
   ]
  },
  {
   "cell_type": "code",
   "execution_count": 3,
   "metadata": {},
   "outputs": [],
   "source": [
    "def fetchResultOverlappingNodes(filePath):\n",
    "    nodeSet = set({})\n",
    "    with open(filePath, 'r') as fileHandle:\n",
    "        line = fileHandle.readline()\n",
    "        while line:\n",
    "            nodeIdList = line.split()\n",
    "            if len(nodeIdList) > 2:\n",
    "                nodeSet.add(nodeIdList[0])\n",
    "            line = fileHandle.readline()\n",
    "    return nodeSet\n"
   ]
  },
  {
   "cell_type": "code",
   "execution_count": 4,
   "metadata": {},
   "outputs": [],
   "source": [
    "def calculateFScore(communityFilePath, resultFilePath):\n",
    "    groundTruth = fetchResultOverlappingNodes(communityFilePath)\n",
    "    predictNodes = fetchResultOverlappingNodes(resultFilePath)\n",
    "    correctNodes = predictNodes.intersection(groundTruth)\n",
    "    precision = len(correctNodes)*1.0/len(predictNodes)\n",
    "    recall = len(correctNodes)*1.0/len(groundTruth)\n",
    "    if precision+recall > 0:\n",
    "        fScore = 2*precision*recall/(precision+recall)\n",
    "    else:\n",
    "        fScore = 0\n",
    "    #print('Precision: %.5f' % precision)\n",
    "    #print('Recall: %.5f' % recall)\n",
    "    #print('F1 Score: %.5f' % f1Score)\n",
    "    return fScore, precision, recall"
   ]
  },
  {
   "cell_type": "code",
   "execution_count": 5,
   "metadata": {},
   "outputs": [
    {
     "name": "stdout",
     "output_type": "stream",
     "text": [
      "Result Written in FScore.txt\n",
      "Running Time: 0.177s\n"
     ]
    }
   ],
   "source": [
    "if __name__ == '__main__':\n",
    "    startTime = time.time()\n",
    "    #communityFilePath = \"../../data/Amazon/amazon.top5000.cmty.txt\"\n",
    "    #resultFilePath = \"../../result/amazon_result.txt\"\n",
    "    #fScore, precision, recall = calculateFScore(communityFilePath, resultFilePath)\n",
    "    with open('FScore.txt', 'w') as fileHandle:\n",
    "        #fileHandle.write('Amazon:\\n\\tFScore: %f\\n\\tPrecision: %f\\n\\tRecall: %f\\n' % (fScore, precision, recall))\n",
    "        for i in [1000, 5000, 10000]:\n",
    "            for j in [1, 3]:\n",
    "                for k in [2, 3, 4, 5, 6, 7, 8]:\n",
    "                    resultFilePath = \"../../data/LFR/N-%d-mu0.%d-om%d/result.dat\" % (i, j, k)\n",
    "                    communityFilePath = \"../../data/LFR/N-%d-mu0.%d-om%d/community.dat\" % (i, j, k)\n",
    "                    fScore, precision, recall = calculateFScore(communityFilePath, resultFilePath)\n",
    "                    fileHandle.write('N-%d-mu0.%d-om%d:\\n\\tFScore: %f\\n\\tPrecision: %f\\n\\tRecall: %f\\n' % (i, j, k, fScore, precision, recall))\n",
    "    completeTime = time.time()\n",
    "    print('Result Written in FScore.txt')\n",
    "    print('Running Time: %.3fs' % (completeTime-startTime))"
   ]
  },
  {
   "cell_type": "code",
   "execution_count": null,
   "metadata": {},
   "outputs": [],
   "source": []
  }
 ],
 "metadata": {
  "kernelspec": {
   "display_name": "Python 3",
   "language": "python",
   "name": "python3"
  },
  "language_info": {
   "codemirror_mode": {
    "name": "ipython",
    "version": 3
   },
   "file_extension": ".py",
   "mimetype": "text/x-python",
   "name": "python",
   "nbconvert_exporter": "python",
   "pygments_lexer": "ipython3",
   "version": "3.8.5"
  }
 },
 "nbformat": 4,
 "nbformat_minor": 4
}
